{
  "nbformat": 4,
  "nbformat_minor": 0,
  "metadata": {
    "colab": {
      "name": "string",
      "provenance": [],
      "authorship_tag": "ABX9TyPLj7rwLd4ff4HLXAjQH7uM",
      "include_colab_link": true
    },
    "kernelspec": {
      "name": "python3",
      "display_name": "Python 3"
    },
    "language_info": {
      "name": "python"
    }
  },
  "cells": [
    {
      "cell_type": "markdown",
      "metadata": {
        "id": "view-in-github",
        "colab_type": "text"
      },
      "source": [
        "<a href=\"https://colab.research.google.com/github/saivamshiklh/Python-Full-Stack-Development/blob/main/string.ipynb\" target=\"_parent\"><img src=\"https://colab.research.google.com/assets/colab-badge.svg\" alt=\"Open In Colab\"/></a>"
      ]
    },
    {
      "cell_type": "code",
      "execution_count": 1,
      "metadata": {
        "colab": {
          "base_uri": "https://localhost:8080/"
        },
        "id": "diADVyW8PNBR",
        "outputId": "9f629551-6e0a-4b23-8977-3d97cd8041ec"
      },
      "outputs": [
        {
          "output_type": "stream",
          "name": "stdout",
          "text": [
            "Enter your namesaivamshi\n",
            "Welcome saivamshi\n",
            "Length of your name 9\n",
            "Maximum value of character in your name v\n",
            "Minimum value of character in your name a\n"
          ]
        }
      ],
      "source": [
        "name=input(\"Enter your name\")\n",
        "print(\"Welcome\",name)\n",
        "print(\"Length of your name\",len(name))\n",
        "print(\"Maximum value of character in your name\",max(name))\n",
        "print(\"Minimum value of character in your name\",min(name))"
      ]
    },
    {
      "cell_type": "code",
      "source": [
        "a=\"Hai\"\n",
        "b=\"How are you\"\n",
        "c=a+b\n",
        "print(c)"
      ],
      "metadata": {
        "colab": {
          "base_uri": "https://localhost:8080/"
        },
        "id": "_kCFFmLuPvus",
        "outputId": "316bf552-fe27-432b-9abd-daa4611b2e69"
      },
      "execution_count": 3,
      "outputs": [
        {
          "output_type": "stream",
          "name": "stdout",
          "text": [
            "HaiHow are you\n"
          ]
        }
      ]
    },
    {
      "cell_type": "code",
      "source": [
        "str1=\"green\"\n",
        "str2=\"black\"\n",
        "print(\"Is both Equal:\",str1==str2)\n",
        "print(\"Is str1>str2\",str1>str2)\n",
        "print(\"Is str1<str2\",str1<str2)\n"
      ],
      "metadata": {
        "colab": {
          "base_uri": "https://localhost:8080/"
        },
        "id": "62_ohNA_P7Un",
        "outputId": "030c563b-35c1-4708-9f54-ea9cbd7fe774"
      },
      "execution_count": 4,
      "outputs": [
        {
          "output_type": "stream",
          "name": "stdout",
          "text": [
            "Is both Equal: False\n",
            "Is str1>str2 True\n",
            "Is str1<str2 False\n"
          ]
        }
      ]
    },
    {
      "cell_type": "code",
      "source": [
        "str=input(\"Enter any string:\")\n",
        "print(\"string capitalized:\",str.capitalize())\n",
        "print(\"string lower case:\",str.lower())\n",
        "print(\"string upper case:\",str.upper())\n",
        "print(\"string title case:\",str.title())\n",
        "print(\"string swap case:\",str.swapcase())\n",
        "print(\"string replace case:\",str.replace(\"python\",\"python programming\"))"
      ],
      "metadata": {
        "colab": {
          "base_uri": "https://localhost:8080/"
        },
        "id": "g0_m1aL4QbIv",
        "outputId": "1163063f-3973-4f2a-c3cc-4e20815db5bf"
      },
      "execution_count": 5,
      "outputs": [
        {
          "output_type": "stream",
          "name": "stdout",
          "text": [
            "Enter any string:vamshi\n",
            "string capitalized: Vamshi\n",
            "string lower case: vamshi\n",
            "string upper case: VAMSHI\n",
            "string title case: Vamshi\n",
            "string swap case: VAMSHI\n",
            "string replace case: vamshi\n"
          ]
        }
      ]
    },
    {
      "cell_type": "code",
      "source": [
        "string=\"vamshi\"\n",
        "string[-2]\n"
      ],
      "metadata": {
        "colab": {
          "base_uri": "https://localhost:8080/",
          "height": 36
        },
        "id": "0Z9TLS7rR2BD",
        "outputId": "4f87564d-3bc4-406e-e31f-de624691a0f6"
      },
      "execution_count": 6,
      "outputs": [
        {
          "output_type": "execute_result",
          "data": {
            "text/plain": [
              "'h'"
            ],
            "application/vnd.google.colaboratory.intrinsic+json": {
              "type": "string"
            }
          },
          "metadata": {},
          "execution_count": 6
        }
      ]
    },
    {
      "cell_type": "code",
      "source": [
        "st1=\"green\"\n",
        "st2=\"y\"\n",
        "print(\"is st1<st2\",st1<st2)"
      ],
      "metadata": {
        "colab": {
          "base_uri": "https://localhost:8080/"
        },
        "id": "aWoV8UDhSHiV",
        "outputId": "699ceb71-1754-4fd8-9e2a-ff2327851a83"
      },
      "execution_count": 7,
      "outputs": [
        {
          "output_type": "stream",
          "name": "stdout",
          "text": [
            "is st1<st2 True\n"
          ]
        }
      ]
    },
    {
      "cell_type": "code",
      "source": [
        "print(\"my name is %s and i secured %d marks in python\"%(\"clever vamshi\",100))\n"
      ],
      "metadata": {
        "colab": {
          "base_uri": "https://localhost:8080/"
        },
        "id": "ablqTDzGSpxI",
        "outputId": "3c136d93-d4f3-4f27-a05d-9f87a171c623"
      },
      "execution_count": 8,
      "outputs": [
        {
          "output_type": "stream",
          "name": "stdout",
          "text": [
            "my name is clever vamshi and i secured 100 marks in python\n"
          ]
        }
      ]
    },
    {
      "cell_type": "code",
      "source": [
        ""
      ],
      "metadata": {
        "id": "FRUr41OjUdGW"
      },
      "execution_count": null,
      "outputs": []
    }
  ]
}