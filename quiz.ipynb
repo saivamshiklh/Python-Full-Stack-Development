{
  "nbformat": 4,
  "nbformat_minor": 0,
  "metadata": {
    "colab": {
      "name": "quiz",
      "provenance": [],
      "authorship_tag": "ABX9TyNZg4FMCFbTa5P+qhPhlkJI",
      "include_colab_link": true
    },
    "kernelspec": {
      "name": "python3",
      "display_name": "Python 3"
    },
    "language_info": {
      "name": "python"
    }
  },
  "cells": [
    {
      "cell_type": "markdown",
      "metadata": {
        "id": "view-in-github",
        "colab_type": "text"
      },
      "source": [
        "<a href=\"https://colab.research.google.com/github/saivamshiklh/Python-Full-Stack-Development/blob/main/quiz.ipynb\" target=\"_parent\"><img src=\"https://colab.research.google.com/assets/colab-badge.svg\" alt=\"Open In Colab\"/></a>"
      ]
    },
    {
      "cell_type": "code",
      "execution_count": 1,
      "metadata": {
        "colab": {
          "base_uri": "https://localhost:8080/"
        },
        "id": "UojzSzHzKwTG",
        "outputId": "431f24b2-8cdc-4e0d-b5b5-bb644608593e"
      },
      "outputs": [
        {
          "output_type": "stream",
          "name": "stdout",
          "text": [
            "Enter the no below 10:7\n",
            "0\n",
            "1\n",
            "2\n",
            "3\n",
            "4\n",
            "5\n",
            "6\n"
          ]
        }
      ],
      "source": [
        "n= int(input(\"Enter the no below 10:\")) \n",
        "for i in range(n): \n",
        "    print(i)\n"
      ]
    },
    {
      "cell_type": "code",
      "source": [
        "a=int(input('enter the number:'))\n",
        "#b=input('enter the text:')\n",
        "for i in range(a):\n",
        "    print(i*3)"
      ],
      "metadata": {
        "colab": {
          "base_uri": "https://localhost:8080/"
        },
        "id": "LezKzp_oLG6e",
        "outputId": "d8da22b1-c43f-4e33-ae7c-f1cd9b275775"
      },
      "execution_count": 2,
      "outputs": [
        {
          "output_type": "stream",
          "name": "stdout",
          "text": [
            "enter the number:4\n",
            "0\n",
            "3\n",
            "6\n",
            "9\n"
          ]
        }
      ]
    },
    {
      "cell_type": "code",
      "source": [
        "a=int(input('enter the number:'))\n",
        "b=input('enter the text:')\n",
        "for i in range(a):\n",
        "    print((i)*b)"
      ],
      "metadata": {
        "colab": {
          "base_uri": "https://localhost:8080/"
        },
        "id": "sJN_N0JbLXm4",
        "outputId": "b8137a46-4841-41b7-d42e-40b2a4caeaf1"
      },
      "execution_count": 3,
      "outputs": [
        {
          "output_type": "stream",
          "name": "stdout",
          "text": [
            "enter the number:7\n",
            "enter the text:Rama\n",
            "\n",
            "Rama\n",
            "RamaRama\n",
            "RamaRamaRama\n",
            "RamaRamaRamaRama\n",
            "RamaRamaRamaRamaRama\n",
            "RamaRamaRamaRamaRamaRama\n"
          ]
        }
      ]
    },
    {
      "cell_type": "code",
      "source": [
        "n= int(input(\"Enter the no below 10:\")) \n",
        "name=input(\"enter the Character(s):\") \n",
        "for i in range(n): \n",
        "    print(\" \"*(n-i),name* (i+1))"
      ],
      "metadata": {
        "colab": {
          "base_uri": "https://localhost:8080/"
        },
        "id": "uJ8G8tQNLvxb",
        "outputId": "260f3690-6f7a-4209-a994-831c8ee00591"
      },
      "execution_count": 4,
      "outputs": [
        {
          "output_type": "stream",
          "name": "stdout",
          "text": [
            "Enter the no below 10:7\n",
            "enter the Character(s):srinivasa\n",
            "        srinivasa\n",
            "       srinivasasrinivasa\n",
            "      srinivasasrinivasasrinivasa\n",
            "     srinivasasrinivasasrinivasasrinivasa\n",
            "    srinivasasrinivasasrinivasasrinivasasrinivasa\n",
            "   srinivasasrinivasasrinivasasrinivasasrinivasasrinivasa\n",
            "  srinivasasrinivasasrinivasasrinivasasrinivasasrinivasasrinivasa\n"
          ]
        }
      ]
    },
    {
      "cell_type": "code",
      "source": [
        "n= int(input(\"Enter the no below 10:\")) \n",
        "name=input(\"enter the Character(s):\") \n",
        "for i in range(n): \n",
        "    print(\"  \"*(n-i),name* (2*i+1))"
      ],
      "metadata": {
        "colab": {
          "base_uri": "https://localhost:8080/"
        },
        "id": "YAZSaCfoMDkN",
        "outputId": "75282501-9b29-4b07-c34e-bd54d150e883"
      },
      "execution_count": 5,
      "outputs": [
        {
          "output_type": "stream",
          "name": "stdout",
          "text": [
            "Enter the no below 10:7\n",
            "enter the Character(s):Srihari\n",
            "               Srihari\n",
            "             SrihariSrihariSrihari\n",
            "           SrihariSrihariSrihariSrihariSrihari\n",
            "         SrihariSrihariSrihariSrihariSrihariSrihariSrihari\n",
            "       SrihariSrihariSrihariSrihariSrihariSrihariSrihariSrihariSrihari\n",
            "     SrihariSrihariSrihariSrihariSrihariSrihariSrihariSrihariSrihariSrihariSrihari\n",
            "   SrihariSrihariSrihariSrihariSrihariSrihariSrihariSrihariSrihariSrihariSrihariSrihariSrihari\n"
          ]
        }
      ]
    },
    {
      "cell_type": "code",
      "source": [
        "n=int(input(\"Enter no.of times = \"))\n",
        "x=str(input(\"Enter String = \"))\n",
        "for i in range(n):\n",
        "    for j in range(i+1):\n",
        "        print(x,end=\" \")\n",
        "    print(end=\"\\n\")"
      ],
      "metadata": {
        "colab": {
          "base_uri": "https://localhost:8080/"
        },
        "id": "nqm4Tx_aMPw7",
        "outputId": "8fa1513f-055c-404d-81ee-72e3c1ac4e24"
      },
      "execution_count": 6,
      "outputs": [
        {
          "output_type": "stream",
          "name": "stdout",
          "text": [
            "Enter no.of times = 7\n",
            "Enter String = vasudeva\n",
            "vasudeva \n",
            "vasudeva vasudeva \n",
            "vasudeva vasudeva vasudeva \n",
            "vasudeva vasudeva vasudeva vasudeva \n",
            "vasudeva vasudeva vasudeva vasudeva vasudeva \n",
            "vasudeva vasudeva vasudeva vasudeva vasudeva vasudeva \n",
            "vasudeva vasudeva vasudeva vasudeva vasudeva vasudeva vasudeva \n"
          ]
        }
      ]
    },
    {
      "cell_type": "code",
      "source": [
        "a=int(input('enter the number:'))\n",
        "b=input('enter the text:')\n",
        "b=b+\" \"\n",
        "for i in range(a):\n",
        "    print((i+1)*b)\n"
      ],
      "metadata": {
        "colab": {
          "base_uri": "https://localhost:8080/"
        },
        "id": "2eF7yt5ZMcuE",
        "outputId": "62ad4897-e51c-4b1b-854a-61610178215f"
      },
      "execution_count": 8,
      "outputs": [
        {
          "output_type": "stream",
          "name": "stdout",
          "text": [
            "enter the number:3\n",
            "enter the text:narayana\n",
            "narayana \n",
            "narayana narayana \n",
            "narayana narayana narayana \n"
          ]
        }
      ]
    },
    {
      "cell_type": "code",
      "source": [
        "a=int(input('enter the number:'))\n",
        "b=input('enter the text:')\n",
        "for i in range(a):\n",
        "    print((i+1)*b)\n",
        "    print(end=\" \\n\")\n"
      ],
      "metadata": {
        "colab": {
          "base_uri": "https://localhost:8080/"
        },
        "id": "NvNP6TUoM42y",
        "outputId": "75fbe7f9-44b1-46a4-c51f-9b0faac3b780"
      },
      "execution_count": 9,
      "outputs": [
        {
          "output_type": "stream",
          "name": "stdout",
          "text": [
            "enter the number:7\n",
            "enter the text:Narasimha\n",
            "Narasimha\n",
            " \n",
            "NarasimhaNarasimha\n",
            " \n",
            "NarasimhaNarasimhaNarasimha\n",
            " \n",
            "NarasimhaNarasimhaNarasimhaNarasimha\n",
            " \n",
            "NarasimhaNarasimhaNarasimhaNarasimhaNarasimha\n",
            " \n",
            "NarasimhaNarasimhaNarasimhaNarasimhaNarasimhaNarasimha\n",
            " \n",
            "NarasimhaNarasimhaNarasimhaNarasimhaNarasimhaNarasimhaNarasimha\n",
            " \n"
          ]
        }
      ]
    },
    {
      "cell_type": "code",
      "source": [
        "i1=int(input(\"Enter the no. \"))\n",
        "s=str(input(\"Enter symbol or name \"))\n",
        "for i in range(i1):\n",
        "    for j in range(i+1):\n",
        "        print(s,end=\" \")\n",
        "    print()\n"
      ],
      "metadata": {
        "colab": {
          "base_uri": "https://localhost:8080/"
        },
        "id": "55ldTOlqNGfV",
        "outputId": "838577a3-6ba2-4c66-9004-01b86b0bd247"
      },
      "execution_count": 10,
      "outputs": [
        {
          "output_type": "stream",
          "name": "stdout",
          "text": [
            "Enter the no. 7\n",
            "Enter symbol or name Venkateshwara\n",
            "Venkateshwara \n",
            "Venkateshwara Venkateshwara \n",
            "Venkateshwara Venkateshwara Venkateshwara \n",
            "Venkateshwara Venkateshwara Venkateshwara Venkateshwara \n",
            "Venkateshwara Venkateshwara Venkateshwara Venkateshwara Venkateshwara \n",
            "Venkateshwara Venkateshwara Venkateshwara Venkateshwara Venkateshwara Venkateshwara \n",
            "Venkateshwara Venkateshwara Venkateshwara Venkateshwara Venkateshwara Venkateshwara Venkateshwara \n"
          ]
        }
      ]
    },
    {
      "cell_type": "code",
      "source": [
        "n=int(input(\"Enter no.of times = \"))\n",
        "x=str(input(\"Enter String = \"))\n",
        "b=\" \"\n",
        "for i in range(n):\n",
        "    print(int((n-i))*b,end=\"\")\n",
        "    for j in range(i+1):\n",
        "        print(x,end=\" \")\n",
        "    print(end=\"\\n\")"
      ],
      "metadata": {
        "colab": {
          "base_uri": "https://localhost:8080/"
        },
        "id": "wFEV3GebNQL0",
        "outputId": "9c158b34-4e4a-4807-9344-27b5b97692bc"
      },
      "execution_count": 11,
      "outputs": [
        {
          "output_type": "stream",
          "name": "stdout",
          "text": [
            "Enter no.of times = 7\n",
            "Enter String = Shivakesava\n",
            "       Shivakesava \n",
            "      Shivakesava Shivakesava \n",
            "     Shivakesava Shivakesava Shivakesava \n",
            "    Shivakesava Shivakesava Shivakesava Shivakesava \n",
            "   Shivakesava Shivakesava Shivakesava Shivakesava Shivakesava \n",
            "  Shivakesava Shivakesava Shivakesava Shivakesava Shivakesava Shivakesava \n",
            " Shivakesava Shivakesava Shivakesava Shivakesava Shivakesava Shivakesava Shivakesava \n"
          ]
        }
      ]
    },
    {
      "cell_type": "code",
      "source": [
        "n=int(input(\"Enter the no. \"))\n",
        "s=input(\"Enter symbol or name \")\n",
        "for i in range(n):\n",
        "    for j in range(n-1):\n",
        "        print(end=\" \")\n",
        "    for k in range(i+1):\n",
        "        print(s,end=\" \")\n",
        "    n=n-1\n",
        "    print()"
      ],
      "metadata": {
        "colab": {
          "base_uri": "https://localhost:8080/"
        },
        "id": "hEcBuAOQNb_I",
        "outputId": "720194d9-ea43-4484-ab6a-52f15f6effc0"
      },
      "execution_count": 12,
      "outputs": [
        {
          "output_type": "stream",
          "name": "stdout",
          "text": [
            "Enter the no. 7\n",
            "Enter symbol or name sitapathi\n",
            "      sitapathi \n",
            "     sitapathi sitapathi \n",
            "    sitapathi sitapathi sitapathi \n",
            "   sitapathi sitapathi sitapathi sitapathi \n",
            "  sitapathi sitapathi sitapathi sitapathi sitapathi \n",
            " sitapathi sitapathi sitapathi sitapathi sitapathi sitapathi \n",
            "sitapathi sitapathi sitapathi sitapathi sitapathi sitapathi sitapathi \n"
          ]
        }
      ]
    },
    {
      "cell_type": "code",
      "source": [
        "n=int(input(\"Enter the no. \"))\n",
        "s=input(\"Enter symbol or name \")\n",
        "for i in range(n):\n",
        "    for j in range(n-1):\n",
        "        print(end=\" \"*len(s))\n",
        "    for k in range(i+1):\n",
        "        print(s,end=\" \"*len(s))\n",
        "    n=n-1\n",
        "    print()"
      ],
      "metadata": {
        "colab": {
          "base_uri": "https://localhost:8080/"
        },
        "id": "Urxi9A7cNzII",
        "outputId": "8294c04b-2445-4036-b428-ec6f4edf059d"
      },
      "execution_count": 13,
      "outputs": [
        {
          "output_type": "stream",
          "name": "stdout",
          "text": [
            "Enter the no. 7\n",
            "Enter symbol or name panduranga\n",
            "                                                            panduranga          \n",
            "                                                  panduranga          panduranga          \n",
            "                                        panduranga          panduranga          panduranga          \n",
            "                              panduranga          panduranga          panduranga          panduranga          \n",
            "                    panduranga          panduranga          panduranga          panduranga          panduranga          \n",
            "          panduranga          panduranga          panduranga          panduranga          panduranga          panduranga          \n",
            "panduranga          panduranga          panduranga          panduranga          panduranga          panduranga          panduranga          \n"
          ]
        }
      ]
    },
    {
      "cell_type": "code",
      "source": [
        "n = int(input(\"Enter the no.:\"))\n",
        "name = input(\"enter the name:\")\n",
        "for i in range(n):\n",
        "    for j in range(n-i-1):\n",
        "        print(\" \"*len(name), end = \" \")\n",
        "        for j in range(i+1):\n",
        "            print(name,\" \"*len(name), end = \" \")\n",
        "        print()"
      ],
      "metadata": {
        "colab": {
          "base_uri": "https://localhost:8080/"
        },
        "id": "EafXH2s7OBPl",
        "outputId": "526aee2a-cb7d-45f8-af52-ce85ee87237a"
      },
      "execution_count": 14,
      "outputs": [
        {
          "output_type": "stream",
          "name": "stdout",
          "text": [
            "Enter the no.:7\n",
            "enter the name:sridhara\n",
            "         sridhara          \n",
            "         sridhara          \n",
            "         sridhara          \n",
            "         sridhara          \n",
            "         sridhara          \n",
            "         sridhara          \n",
            "         sridhara          sridhara          \n",
            "         sridhara          sridhara          \n",
            "         sridhara          sridhara          \n",
            "         sridhara          sridhara          \n",
            "         sridhara          sridhara          \n",
            "         sridhara          sridhara          sridhara          \n",
            "         sridhara          sridhara          sridhara          \n",
            "         sridhara          sridhara          sridhara          \n",
            "         sridhara          sridhara          sridhara          \n",
            "         sridhara          sridhara          sridhara          sridhara          \n",
            "         sridhara          sridhara          sridhara          sridhara          \n",
            "         sridhara          sridhara          sridhara          sridhara          \n",
            "         sridhara          sridhara          sridhara          sridhara          sridhara          \n",
            "         sridhara          sridhara          sridhara          sridhara          sridhara          \n",
            "         sridhara          sridhara          sridhara          sridhara          sridhara          sridhara          \n"
          ]
        }
      ]
    }
  ]
}