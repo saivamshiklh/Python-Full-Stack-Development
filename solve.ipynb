{
  "nbformat": 4,
  "nbformat_minor": 0,
  "metadata": {
    "colab": {
      "name": "solve",
      "provenance": [],
      "authorship_tag": "ABX9TyM61ki6k9gurHkiBDivw7ij",
      "include_colab_link": true
    },
    "kernelspec": {
      "name": "python3",
      "display_name": "Python 3"
    },
    "language_info": {
      "name": "python"
    }
  },
  "cells": [
    {
      "cell_type": "markdown",
      "metadata": {
        "id": "view-in-github",
        "colab_type": "text"
      },
      "source": [
        "<a href=\"https://colab.research.google.com/github/saivamshiklh/Python-Full-Stack-Development/blob/main/solve.ipynb\" target=\"_parent\"><img src=\"https://colab.research.google.com/assets/colab-badge.svg\" alt=\"Open In Colab\"/></a>"
      ]
    },
    {
      "cell_type": "code",
      "execution_count": null,
      "metadata": {
        "colab": {
          "base_uri": "https://localhost:8080/"
        },
        "id": "V6NdC6Zqutvo",
        "outputId": "eac497ae-511b-4d38-9044-7e5ee37b965f"
      },
      "outputs": [
        {
          "output_type": "stream",
          "name": "stdout",
          "text": [
            "(1, 4, 5, 'cat')\n"
          ]
        }
      ],
      "source": [
        "tpl=1,4,5,\"cat\"\n",
        "print(tpl)"
      ]
    },
    {
      "cell_type": "code",
      "source": [
        "my_tpl=(1,2,3)\n",
        "print(my_tpl)"
      ],
      "metadata": {
        "colab": {
          "base_uri": "https://localhost:8080/"
        },
        "id": "e9yP2yVAu10f",
        "outputId": "a2db7f53-9063-4091-d160-2df9cce0ffd1"
      },
      "execution_count": null,
      "outputs": [
        {
          "output_type": "stream",
          "name": "stdout",
          "text": [
            "(1, 2, 3)\n"
          ]
        }
      ]
    },
    {
      "cell_type": "code",
      "source": [
        "my_tuple=()\n",
        "print(my_tuple)"
      ],
      "metadata": {
        "colab": {
          "base_uri": "https://localhost:8080/"
        },
        "id": "mxF9ExmUu5lq",
        "outputId": "5e81ccc5-f8f0-4de2-d298-bd8193283c51"
      },
      "execution_count": null,
      "outputs": [
        {
          "output_type": "stream",
          "name": "stdout",
          "text": [
            "()\n"
          ]
        }
      ]
    },
    {
      "cell_type": "code",
      "source": [
        "n_tuple=(\"VAMSHI\",[8,4,6],(1,2,3))\n",
        "print(n_tuple)\n",
        "n_tuple[1][1]=23\n",
        "print(n_tuple)"
      ],
      "metadata": {
        "colab": {
          "base_uri": "https://localhost:8080/"
        },
        "id": "D_Rcfk_Eu9Em",
        "outputId": "12adc3d4-6539-4b69-9a60-bd72ed56177a"
      },
      "execution_count": null,
      "outputs": [
        {
          "output_type": "stream",
          "name": "stdout",
          "text": [
            "('VAMSHI', [8, 4, 6], (1, 2, 3))\n",
            "('VAMSHI', [8, 23, 6], (1, 2, 3))\n"
          ]
        }
      ]
    },
    {
      "cell_type": "code",
      "source": [
        "tpl1=(1,2,3)\n",
        "tpl2=(4,5,6)\n",
        "tpl3=tpl1+tpl2\n",
        "print(tpl1)\n",
        "print(tpl2)\n",
        "print(tpl3)"
      ],
      "metadata": {
        "colab": {
          "base_uri": "https://localhost:8080/"
        },
        "id": "KgC4xpTZvAV0",
        "outputId": "506f7591-9421-4a3a-ea1f-881e613823b8"
      },
      "execution_count": null,
      "outputs": [
        {
          "output_type": "stream",
          "name": "stdout",
          "text": [
            "(1, 2, 3)\n",
            "(4, 5, 6)\n",
            "(1, 2, 3, 4, 5, 6)\n"
          ]
        }
      ]
    },
    {
      "cell_type": "code",
      "source": [
        "tp=()\n",
        "all(tp)"
      ],
      "metadata": {
        "id": "grg3ZHiBxCxG",
        "colab": {
          "base_uri": "https://localhost:8080/"
        },
        "outputId": "18631630-b61a-4ae1-a70b-4e3e05bb093e"
      },
      "execution_count": 6,
      "outputs": [
        {
          "output_type": "execute_result",
          "data": {
            "text/plain": [
              "True"
            ]
          },
          "metadata": {},
          "execution_count": 6
        }
      ]
    },
    {
      "cell_type": "code",
      "source": [
        "tp=(0,1)\n",
        "all(tp)"
      ],
      "metadata": {
        "colab": {
          "base_uri": "https://localhost:8080/"
        },
        "id": "RDX-IriOxpVU",
        "outputId": "70bb9b87-7206-4bbb-cbb7-8f147bf0e320"
      },
      "execution_count": 7,
      "outputs": [
        {
          "output_type": "execute_result",
          "data": {
            "text/plain": [
              "False"
            ]
          },
          "metadata": {},
          "execution_count": 7
        }
      ]
    },
    {
      "cell_type": "code",
      "source": [
        "tp1=(0,1,2,3,4)\n",
        "all(tp1)"
      ],
      "metadata": {
        "colab": {
          "base_uri": "https://localhost:8080/"
        },
        "id": "_wchBGq0xvHU",
        "outputId": "f8b9a7f3-5d9d-4ae6-c90f-59948f750990"
      },
      "execution_count": 8,
      "outputs": [
        {
          "output_type": "execute_result",
          "data": {
            "text/plain": [
              "False"
            ]
          },
          "metadata": {},
          "execution_count": 8
        }
      ]
    },
    {
      "cell_type": "code",
      "source": [
        "tp2=(1,2,3,4)\n",
        "all(tp2)"
      ],
      "metadata": {
        "colab": {
          "base_uri": "https://localhost:8080/"
        },
        "id": "ymbwzyGKx8Xc",
        "outputId": "5f1e1a82-9c32-48d8-d934-d29a0a56f850"
      },
      "execution_count": 9,
      "outputs": [
        {
          "output_type": "execute_result",
          "data": {
            "text/plain": [
              "True"
            ]
          },
          "metadata": {},
          "execution_count": 9
        }
      ]
    },
    {
      "cell_type": "code",
      "source": [
        "tp3=(\"\",1,2,3,4)\n",
        "all(tp3)"
      ],
      "metadata": {
        "colab": {
          "base_uri": "https://localhost:8080/"
        },
        "id": "h8nQLnSsyJij",
        "outputId": "b9eb75ce-c895-4d1d-92c2-822c21c980ea"
      },
      "execution_count": 10,
      "outputs": [
        {
          "output_type": "execute_result",
          "data": {
            "text/plain": [
              "False"
            ]
          },
          "metadata": {},
          "execution_count": 10
        }
      ]
    },
    {
      "cell_type": "code",
      "source": [
        "my_upl=\"hello\"\n",
        "print(my_upl)"
      ],
      "metadata": {
        "colab": {
          "base_uri": "https://localhost:8080/"
        },
        "id": "QTsxXa1zyT1R",
        "outputId": "6d9d3283-5e27-4ea1-bc47-fc4bbf41797a"
      },
      "execution_count": 11,
      "outputs": [
        {
          "output_type": "stream",
          "name": "stdout",
          "text": [
            "hello\n"
          ]
        }
      ]
    },
    {
      "cell_type": "code",
      "source": [
        "my_tupl=(\"hello\")\n",
        "print(my_tupl)"
      ],
      "metadata": {
        "colab": {
          "base_uri": "https://localhost:8080/"
        },
        "id": "dW6hpt6Vyihu",
        "outputId": "2047f817-379b-437d-db6e-ae62e3e25572"
      },
      "execution_count": 12,
      "outputs": [
        {
          "output_type": "stream",
          "name": "stdout",
          "text": [
            "hello\n"
          ]
        }
      ]
    },
    {
      "cell_type": "code",
      "source": [
        "a=(\"vamshi\",[1,2,3],(1,2,3))\n",
        "print(a[1][1])"
      ],
      "metadata": {
        "colab": {
          "base_uri": "https://localhost:8080/"
        },
        "id": "x8Bz5bseywKA",
        "outputId": "3a019583-40fb-453a-f06a-c36aafd57148"
      },
      "execution_count": 13,
      "outputs": [
        {
          "output_type": "stream",
          "name": "stdout",
          "text": [
            "2\n"
          ]
        }
      ]
    },
    {
      "cell_type": "code",
      "source": [
        "my_tuple=(\"hello\")\n",
        "print(type(my_tuple))"
      ],
      "metadata": {
        "colab": {
          "base_uri": "https://localhost:8080/"
        },
        "id": "nFyfK5VwzIhR",
        "outputId": "8f47fd02-b259-4057-cdff-30a971ec638c"
      },
      "execution_count": 14,
      "outputs": [
        {
          "output_type": "stream",
          "name": "stdout",
          "text": [
            "<class 'str'>\n"
          ]
        }
      ]
    },
    {
      "cell_type": "code",
      "source": [
        "my_tuple=(\"hello\",)\n",
        "print(type(my_tuple))"
      ],
      "metadata": {
        "colab": {
          "base_uri": "https://localhost:8080/"
        },
        "id": "suHzQ87-zjOd",
        "outputId": "0d4649aa-f745-4455-9362-962b96d4206a"
      },
      "execution_count": 15,
      "outputs": [
        {
          "output_type": "stream",
          "name": "stdout",
          "text": [
            "<class 'tuple'>\n"
          ]
        }
      ]
    },
    {
      "cell_type": "code",
      "source": [
        "my_tuple=\"hello\",\n",
        "print(type(my_tuple))"
      ],
      "metadata": {
        "colab": {
          "base_uri": "https://localhost:8080/"
        },
        "id": "leLD4G7azvZg",
        "outputId": "91d4b69a-9a32-4267-9aee-19f01651df54"
      },
      "execution_count": 16,
      "outputs": [
        {
          "output_type": "stream",
          "name": "stdout",
          "text": [
            "<class 'tuple'>\n"
          ]
        }
      ]
    },
    {
      "cell_type": "code",
      "source": [
        "marks=[23,45,32]\n",
        "print(marks[0])\n",
        "print(marks[2])"
      ],
      "metadata": {
        "colab": {
          "base_uri": "https://localhost:8080/"
        },
        "id": "Yig9-H7Hz-DM",
        "outputId": "e65a6d42-c606-41e7-8e7f-3dd3fbb83a6d"
      },
      "execution_count": 17,
      "outputs": [
        {
          "output_type": "stream",
          "name": "stdout",
          "text": [
            "23\n",
            "32\n"
          ]
        }
      ]
    },
    {
      "cell_type": "code",
      "source": [
        "print((1,2,3)+(4,5,6))\n",
        "print((\"Repeat\",)*3)"
      ],
      "metadata": {
        "colab": {
          "base_uri": "https://localhost:8080/"
        },
        "id": "QBygs4600GNc",
        "outputId": "4538e5cc-9bdd-4fe9-d721-1a744eff3b60"
      },
      "execution_count": 18,
      "outputs": [
        {
          "output_type": "stream",
          "name": "stdout",
          "text": [
            "(1, 2, 3, 4, 5, 6)\n",
            "('Repeat', 'Repeat', 'Repeat')\n"
          ]
        }
      ]
    },
    {
      "cell_type": "code",
      "source": [
        "my_tuple=('p','r','o','g','r','a','m','i','z')\n",
        "\n",
        "del my_tuple"
      ],
      "metadata": {
        "id": "M1frwvqB0YYo"
      },
      "execution_count": 20,
      "outputs": []
    },
    {
      "cell_type": "code",
      "source": [
        "my_tuple=('a','p','p','l','e')\n",
        "print(\"total count of element p\",my_tuple.count('p'))\n",
        "print(\"index of l is\",my_tuple.index('l'))"
      ],
      "metadata": {
        "colab": {
          "base_uri": "https://localhost:8080/"
        },
        "id": "fWEyzXT81FW3",
        "outputId": "84e9d40f-9501-4ad7-bc54-55f915355bf2"
      },
      "execution_count": 21,
      "outputs": [
        {
          "output_type": "stream",
          "name": "stdout",
          "text": [
            "total count of element p 2\n",
            "index of l is 3\n"
          ]
        }
      ]
    },
    {
      "cell_type": "code",
      "source": [
        "my_tuple=('a','p','p','l','e')\n",
        "print('a' in my_tuple)\n",
        "print('b' in my_tuple)\n",
        "print('g' not in my_tuple)"
      ],
      "metadata": {
        "colab": {
          "base_uri": "https://localhost:8080/"
        },
        "id": "ILyXm-5r15L-",
        "outputId": "b8ac9e96-dff9-4776-f14c-d6b00d85fe01"
      },
      "execution_count": 22,
      "outputs": [
        {
          "output_type": "stream",
          "name": "stdout",
          "text": [
            "True\n",
            "False\n",
            "True\n"
          ]
        }
      ]
    },
    {
      "cell_type": "code",
      "source": [
        "names=('vamshi','kiran','anirudh','suhas')\n",
        "for name in names:\n",
        "  print('Hello' ,name)"
      ],
      "metadata": {
        "colab": {
          "base_uri": "https://localhost:8080/"
        },
        "id": "_zLlFS942OW9",
        "outputId": "08063764-7b07-4330-e273-27ba88930a4e"
      },
      "execution_count": 23,
      "outputs": [
        {
          "output_type": "stream",
          "name": "stdout",
          "text": [
            "Hello vamshi\n",
            "Hello kiran\n",
            "Hello anirudh\n",
            "Hello suhas\n"
          ]
        }
      ]
    },
    {
      "cell_type": "code",
      "source": [
        ""
      ],
      "metadata": {
        "id": "6t_1jVtF2tWX"
      },
      "execution_count": null,
      "outputs": []
    }
  ]
}