{
  "nbformat": 4,
  "nbformat_minor": 0,
  "metadata": {
    "colab": {
      "name": "296",
      "provenance": [],
      "authorship_tag": "ABX9TyO39i715eGK4S3VTmI8QxbJ",
      "include_colab_link": true
    },
    "kernelspec": {
      "name": "python3",
      "display_name": "Python 3"
    },
    "language_info": {
      "name": "python"
    }
  },
  "cells": [
    {
      "cell_type": "markdown",
      "metadata": {
        "id": "view-in-github",
        "colab_type": "text"
      },
      "source": [
        "<a href=\"https://colab.research.google.com/github/saivamshiklh/Python-Full-Stack-Development/blob/main/296.ipynb\" target=\"_parent\"><img src=\"https://colab.research.google.com/assets/colab-badge.svg\" alt=\"Open In Colab\"/></a>"
      ]
    },
    {
      "cell_type": "code",
      "execution_count": 1,
      "metadata": {
        "colab": {
          "base_uri": "https://localhost:8080/"
        },
        "id": "jQhHcYzWTVqM",
        "outputId": "d1b263c8-0f0e-4325-bada-85710fd4607d"
      },
      "outputs": [
        {
          "output_type": "stream",
          "name": "stdout",
          "text": [
            "batsmen  = {'dhoni', 'jadeja', 'virat', 'dhawan', 'pandya', 'rohit'}\n",
            "bowlers  = {'bhuvenashwar', 'jadeja', 'shami', 'pandya', 'kuldeep'}\n",
            "ALL rounders = {'pandya', 'jadeja'}\n"
          ]
        }
      ],
      "source": [
        "batsmen={'virat','rohit','dhawan','dhoni','pandya','jadeja'}\n",
        "bowlers={'bhuvenashwar','shami','pandya','jadeja','kuldeep'}\n",
        "allrounders=set(batsmen) & set(bowlers)\n",
        "print(\"batsmen  =\", batsmen)\n",
        "print(\"bowlers  =\",bowlers)\n",
        "print(\"ALL rounders =\" , allrounders)"
      ]
    },
    {
      "cell_type": "code",
      "source": [
        "tcs=[\"uma\",\"danish\",\"amrutha\"]\n",
        "infosys=[\"lohita\",\"danish\",\"ashwathi\"]\n",
        "wipro=[\"sangeetha\",\"jaison\",\"prasad\",\"amrutha\"]\n",
        "placed=set(tcs) | set(infosys) | set(wipro)\n",
        "print(placed)\n",
        "print(\"Number of people placed =\" , len(placed))"
      ],
      "metadata": {
        "colab": {
          "base_uri": "https://localhost:8080/"
        },
        "id": "Igbz0EKLVFv2",
        "outputId": "b73204c5-e273-4907-e56f-c9c78471e0ec"
      },
      "execution_count": 2,
      "outputs": [
        {
          "output_type": "stream",
          "name": "stdout",
          "text": [
            "{'ashwathi', 'sangeetha', 'lohita', 'jaison', 'danish', 'prasad', 'amrutha', 'uma'}\n",
            "Number of people placed = 8\n"
          ]
        }
      ]
    },
    {
      "cell_type": "code",
      "source": [
        "odd={1,3,5,7,9}\n",
        "even={0,2,4,6,8}\n",
        "print('Union of odd and even' , odd|even)\n",
        "print('odd set is',odd)\n",
        "print('even set is',even)\n",
        "odd|=even\n",
        "print('odd set after |= operation',odd)\n",
        "print('even set after |= operation',even)\n",
        "odd-=even\n",
        "print('odd set after -= operation',odd)\n",
        "odd^=even\n",
        "print('odd set after ^= operation',odd)\n",
        "odd&=even\n",
        "print('odd set after &= operation',odd)"
      ],
      "metadata": {
        "colab": {
          "base_uri": "https://localhost:8080/"
        },
        "id": "6gVT8GRzV9c-",
        "outputId": "4b8bb611-3f56-440c-fd19-1584d498413e"
      },
      "execution_count": 3,
      "outputs": [
        {
          "output_type": "stream",
          "name": "stdout",
          "text": [
            "Union of odd and even {0, 1, 2, 3, 4, 5, 6, 7, 8, 9}\n",
            "odd set is {1, 3, 5, 7, 9}\n",
            "even set is {0, 2, 4, 6, 8}\n",
            "odd set after |= operation {0, 1, 2, 3, 4, 5, 6, 7, 8, 9}\n",
            "even set after |= operation {0, 2, 4, 6, 8}\n",
            "odd set after -= operation {1, 3, 5, 7, 9}\n",
            "odd set after ^= operation {1, 3, 4, 5, 2, 7, 0, 9, 6, 8}\n",
            "odd set after &= operation {0, 2, 4, 6, 8}\n"
          ]
        }
      ]
    },
    {
      "cell_type": "code",
      "source": [
        ""
      ],
      "metadata": {
        "id": "3eDX9dPBXWGP"
      },
      "execution_count": null,
      "outputs": []
    }
  ]
}