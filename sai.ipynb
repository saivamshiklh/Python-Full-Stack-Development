{
  "nbformat": 4,
  "nbformat_minor": 0,
  "metadata": {
    "colab": {
      "name": "sai",
      "provenance": [],
      "authorship_tag": "ABX9TyPuoLJiJCcDysOkn+B5nAPX",
      "include_colab_link": true
    },
    "kernelspec": {
      "name": "python3",
      "display_name": "Python 3"
    },
    "language_info": {
      "name": "python"
    }
  },
  "cells": [
    {
      "cell_type": "markdown",
      "metadata": {
        "id": "view-in-github",
        "colab_type": "text"
      },
      "source": [
        "<a href=\"https://colab.research.google.com/github/saivamshiklh/Python-Full-Stack-Development/blob/main/sai.ipynb\" target=\"_parent\"><img src=\"https://colab.research.google.com/assets/colab-badge.svg\" alt=\"Open In Colab\"/></a>"
      ]
    },
    {
      "cell_type": "code",
      "source": [
        "A={1,2,3,4,5}\n",
        "B={4,5,6,7,8}\n",
        "print(\"Union   =\", A|B)\n",
        "print(\"Intersection =\", A&B)\n",
        "print(\"Difference =\",A-B)\n",
        "print(\"Symmetric Diff =\", A^B)"
      ],
      "metadata": {
        "id": "EipHqoVz9aPL",
        "colab": {
          "base_uri": "https://localhost:8080/"
        },
        "outputId": "020e6e89-bd2c-47ed-a4b7-bf70b985ef35"
      },
      "execution_count": null,
      "outputs": [
        {
          "output_type": "stream",
          "name": "stdout",
          "text": [
            "Union   = {1, 2, 3, 4, 5, 6, 7, 8}\n",
            "Intersection = {4, 5}\n",
            "Difference = {1, 2, 3}\n",
            "Symmetric Diff = {1, 2, 3, 6, 7, 8}\n"
          ]
        }
      ]
    },
    {
      "cell_type": "code",
      "source": [
        "studentList={'danish','jaison','sangeetha','uma','amrutha','lohita','prasad','ashwathi'}\n",
        "placedStudList={\"uma\",\"danish\",\"amrutha\"}\n",
        "notplacedStudList=set(studentList)-set(placedStudList)\n",
        "print(\"Students yet to get job \\n\", notplacedStudList)"
      ],
      "metadata": {
        "id": "ZZqkGtKQ78Pk",
        "colab": {
          "base_uri": "https://localhost:8080/"
        },
        "outputId": "998c6141-5e02-46fd-fbc8-af521cc92b45"
      },
      "execution_count": null,
      "outputs": [
        {
          "output_type": "stream",
          "name": "stdout",
          "text": [
            "Students yet to get job \n",
            " {'ashwathi', 'lohita', 'prasad', 'sangeetha', 'jaison'}\n"
          ]
        }
      ]
    },
    {
      "cell_type": "code",
      "source": [
        "numberset={1,2,3,4,3,2}\n",
        "print(numberset)"
      ],
      "metadata": {
        "colab": {
          "base_uri": "https://localhost:8080/"
        },
        "id": "lMwCYhKxMO3T",
        "outputId": "3eb517e4-e033-4288-f6e5-a50bffa74ed3"
      },
      "execution_count": null,
      "outputs": [
        {
          "output_type": "stream",
          "name": "stdout",
          "text": [
            "{1, 2, 3, 4}\n"
          ]
        }
      ]
    },
    {
      "cell_type": "code",
      "source": [
        "emptyset={}\n",
        "print(type(emptyset))"
      ],
      "metadata": {
        "colab": {
          "base_uri": "https://localhost:8080/"
        },
        "id": "0ikOGTHHMhdN",
        "outputId": "48ea9995-9433-416a-f749-5456fba9f243"
      },
      "execution_count": null,
      "outputs": [
        {
          "output_type": "stream",
          "name": "stdout",
          "text": [
            "<class 'dict'>\n"
          ]
        }
      ]
    },
    {
      "cell_type": "code",
      "source": [
        "emptyset=set()\n",
        "print(type(emptyset))"
      ],
      "metadata": {
        "colab": {
          "base_uri": "https://localhost:8080/"
        },
        "id": "vbGIkX0EMq02",
        "outputId": "42bd036a-073e-4b2a-fd85-92d3116c6e6b"
      },
      "execution_count": null,
      "outputs": [
        {
          "output_type": "stream",
          "name": "stdout",
          "text": [
            "<class 'set'>\n"
          ]
        }
      ]
    },
    {
      "cell_type": "code",
      "source": [
        "my_set={1.0,\"Hello\",(1,2,3)}\n",
        "print(my_set)"
      ],
      "metadata": {
        "colab": {
          "base_uri": "https://localhost:8080/"
        },
        "id": "bwGdU1LBNCZ0",
        "outputId": "ae5339b7-9d47-4c66-c1f2-1e98a0016af1"
      },
      "execution_count": null,
      "outputs": [
        {
          "output_type": "stream",
          "name": "stdout",
          "text": [
            "{1.0, 'Hello', (1, 2, 3)}\n"
          ]
        }
      ]
    },
    {
      "cell_type": "code",
      "source": [
        "set_with_lists=set([1,2,3])\n",
        "print(type(set_with_lists))\n",
        "print(set_with_lists)"
      ],
      "metadata": {
        "colab": {
          "base_uri": "https://localhost:8080/"
        },
        "id": "60Wgz9XxNQpe",
        "outputId": "8624afa1-cea3-4b2a-cc73-2c08436bf509"
      },
      "execution_count": null,
      "outputs": [
        {
          "output_type": "stream",
          "name": "stdout",
          "text": [
            "<class 'set'>\n",
            "{1, 2, 3}\n"
          ]
        }
      ]
    },
    {
      "cell_type": "code",
      "source": [
        "my_set=set()\n",
        "my_set.update([9,12])\n",
        "my_set.update((3,5))\n",
        "my_set.update(\"VAMSHI\")\n",
        "print(my_set)"
      ],
      "metadata": {
        "colab": {
          "base_uri": "https://localhost:8080/"
        },
        "id": "ew0xyMjwNnlg",
        "outputId": "6b6932cb-fe1f-4fd9-8c1a-49d28d8d88a7"
      },
      "execution_count": 3,
      "outputs": [
        {
          "output_type": "stream",
          "name": "stdout",
          "text": [
            "{'V', 3, 'A', 5, 'H', 'I', 9, 12, 'M', 'S'}\n"
          ]
        }
      ]
    },
    {
      "cell_type": "code",
      "source": [
        "my_set.discard(12)\n",
        "print(my_set)"
      ],
      "metadata": {
        "colab": {
          "base_uri": "https://localhost:8080/"
        },
        "id": "cCcW8PsBOBz9",
        "outputId": "761e6a37-7f25-44fe-9ff9-87daa17a0244"
      },
      "execution_count": null,
      "outputs": [
        {
          "output_type": "stream",
          "name": "stdout",
          "text": [
            "{'K', 3, 5, 'L', 9, 'H'}\n"
          ]
        }
      ]
    },
    {
      "cell_type": "code",
      "source": [
        "my_set.discard(9)\n",
        "print(my_set)"
      ],
      "metadata": {
        "colab": {
          "base_uri": "https://localhost:8080/"
        },
        "id": "buPmLMvxOVxJ",
        "outputId": "a24bc49f-86d5-4716-d11a-26a07e434189"
      },
      "execution_count": null,
      "outputs": [
        {
          "output_type": "stream",
          "name": "stdout",
          "text": [
            "{'K', 3, 5, 'L', 'H'}\n"
          ]
        }
      ]
    },
    {
      "cell_type": "code",
      "source": [
        "my_set=set(\"apple\")\n",
        "print('a' in my_set)\n",
        "print('p' not in my_set)"
      ],
      "metadata": {
        "colab": {
          "base_uri": "https://localhost:8080/"
        },
        "id": "rwXSYvcVOoMQ",
        "outputId": "847db3cf-db63-4ab0-bcef-d43ba066236f"
      },
      "execution_count": null,
      "outputs": [
        {
          "output_type": "stream",
          "name": "stdout",
          "text": [
            "True\n",
            "False\n"
          ]
        }
      ]
    },
    {
      "cell_type": "code",
      "source": [
        "batsman=[\"virat\",\"rohit\",\"dhawan\",\"dhoni\"]\n",
        "bowlers=[\"bhuvenashwar\",\"shami\",\"pandya\"]\n",
        "allrounders=set(batsman) & set(bowlers)\n",
        "print(\"Batsman=\",batsman)\n",
        "print(\"bowlers=\",bowlers)\n",
        "print(\"allrounders=\",allrounders)"
      ],
      "metadata": {
        "colab": {
          "base_uri": "https://localhost:8080/"
        },
        "id": "XHO8A0qXO8gC",
        "outputId": "b41e549a-6e31-4e7f-f81f-465cbe6fabe9"
      },
      "execution_count": null,
      "outputs": [
        {
          "output_type": "stream",
          "name": "stdout",
          "text": [
            "Batsman= ['virat', 'rohit', 'dhawan', 'dhoni']\n",
            "bowlers= ['bhuvenashwar', 'shami', 'pandya']\n",
            "allrounders= set()\n"
          ]
        }
      ]
    },
    {
      "cell_type": "code",
      "source": [
        "import calendar\n",
        "print(calendar.month(2003,5))"
      ],
      "metadata": {
        "colab": {
          "base_uri": "https://localhost:8080/"
        },
        "id": "kdeK9S0XDS5j",
        "outputId": "18020bee-8b2d-4517-b8ea-d5fc2c0b5627"
      },
      "execution_count": 1,
      "outputs": [
        {
          "output_type": "stream",
          "name": "stdout",
          "text": [
            "      May 2003\n",
            "Mo Tu We Th Fr Sa Su\n",
            "          1  2  3  4\n",
            " 5  6  7  8  9 10 11\n",
            "12 13 14 15 16 17 18\n",
            "19 20 21 22 23 24 25\n",
            "26 27 28 29 30 31\n",
            "\n"
          ]
        }
      ]
    },
    {
      "cell_type": "code",
      "source": [
        "numbers={1,2,3,4,5,6}\n",
        "odd={1,3,5}\n",
        "even={2,4,6}\n",
        "print(odd.isdisjoint(even))\n",
        "print(numbers.issuperset(odd))\n",
        "print(odd.issuperset(numbers))\n",
        "print(odd.issubset(numbers))"
      ],
      "metadata": {
        "colab": {
          "base_uri": "https://localhost:8080/"
        },
        "id": "Vj1ctTAXDgUN",
        "outputId": "e3ff21de-2174-4c6d-8172-a76d4365c1f8"
      },
      "execution_count": 2,
      "outputs": [
        {
          "output_type": "stream",
          "name": "stdout",
          "text": [
            "True\n",
            "True\n",
            "False\n",
            "True\n"
          ]
        }
      ]
    },
    {
      "cell_type": "code",
      "source": [
        "r={\"india\",55.6,6,6,7,'e'}\n",
        "r.remove(55.6)\n",
        "print(r)"
      ],
      "metadata": {
        "colab": {
          "base_uri": "https://localhost:8080/"
        },
        "id": "uTb-Y5dYEcnT",
        "outputId": "1022e91d-5413-46bf-862e-f9c91df45598"
      },
      "execution_count": 4,
      "outputs": [
        {
          "output_type": "stream",
          "name": "stdout",
          "text": [
            "{'india', 6, 7, 'e'}\n"
          ]
        }
      ]
    },
    {
      "cell_type": "code",
      "source": [
        "data=\"cranes varsity banglore\"\n",
        "unique=set(data)\n",
        "print(\"number of unique characters =\",len(unique))\n",
        "print(\"list of unique characters=\",unique)\n",
        "data=list(data)\n",
        "for ele in unique:\n",
        "  data.remove(ele)\n",
        "  print(\"repeated characters=\",set(data))"
      ],
      "metadata": {
        "colab": {
          "base_uri": "https://localhost:8080/"
        },
        "id": "l6BHm_4nEr4k",
        "outputId": "d8c34f3b-6549-4e33-fbb4-7a2aa968956f"
      },
      "execution_count": 5,
      "outputs": [
        {
          "output_type": "stream",
          "name": "stdout",
          "text": [
            "number of unique characters = 15\n",
            "list of unique characters= {'o', 's', 'g', 'y', 't', 'b', 'n', 'a', 'v', 'l', 'c', 'e', 'r', 'i', ' '}\n",
            "repeated characters= {'s', 'g', 'y', 't', 'b', 'n', 'a', 'v', 'l', 'c', 'e', 'r', 'i', ' '}\n",
            "repeated characters= {'s', 'g', 'y', 't', 'b', 'n', 'a', 'v', 'l', 'c', 'e', 'r', 'i', ' '}\n",
            "repeated characters= {'s', 'y', 't', 'b', 'n', 'a', 'v', 'l', 'c', 'e', 'r', 'i', ' '}\n",
            "repeated characters= {'s', 't', 'b', 'n', 'a', 'v', 'l', 'c', 'e', 'r', 'i', ' '}\n",
            "repeated characters= {'s', 'b', 'n', 'a', 'v', 'l', 'c', 'e', 'r', 'i', ' '}\n",
            "repeated characters= {'s', 'l', 'n', 'a', 'v', 'c', 'e', 'r', 'i', ' '}\n",
            "repeated characters= {'s', 'l', 'n', 'a', 'v', 'c', 'e', 'r', 'i', ' '}\n",
            "repeated characters= {'s', 'l', 'n', 'v', 'a', 'c', 'e', 'r', 'i', ' '}\n",
            "repeated characters= {'s', 'l', 'n', 'a', 'c', 'e', 'r', 'i', ' '}\n",
            "repeated characters= {'s', 'n', 'a', 'c', 'e', 'r', 'i', ' '}\n",
            "repeated characters= {'n', 'a', 's', 'e', 'r', 'i', ' '}\n",
            "repeated characters= {'n', 'a', 's', 'e', 'r', 'i', ' '}\n",
            "repeated characters= {'n', 'a', 's', 'e', 'r', 'i', ' '}\n",
            "repeated characters= {'n', 'a', 's', 'e', 'r', ' '}\n",
            "repeated characters= {'n', 'a', 's', 'e', 'r', ' '}\n"
          ]
        }
      ]
    }
  ]
}