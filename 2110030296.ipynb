{
  "nbformat": 4,
  "nbformat_minor": 0,
  "metadata": {
    "colab": {
      "name": "2110030296",
      "provenance": [],
      "authorship_tag": "ABX9TyP9ehq1+m+lHvdd/L/k8iA6",
      "include_colab_link": true
    },
    "kernelspec": {
      "name": "python3",
      "display_name": "Python 3"
    },
    "language_info": {
      "name": "python"
    }
  },
  "cells": [
    {
      "cell_type": "markdown",
      "metadata": {
        "id": "view-in-github",
        "colab_type": "text"
      },
      "source": [
        "<a href=\"https://colab.research.google.com/github/saivamshiklh/Python-Full-Stack-Development/blob/main/2110030296.ipynb\" target=\"_parent\"><img src=\"https://colab.research.google.com/assets/colab-badge.svg\" alt=\"Open In Colab\"/></a>"
      ]
    },
    {
      "cell_type": "code",
      "execution_count": 1,
      "metadata": {
        "colab": {
          "base_uri": "https://localhost:8080/"
        },
        "id": "96L_kkQhScK0",
        "outputId": "31b11053-0a58-4c16-a552-e9d3d3b584b0"
      },
      "outputs": [
        {
          "output_type": "stream",
          "name": "stdout",
          "text": [
            "['apple', 'banana', 'cherry']\n"
          ]
        }
      ],
      "source": [
        "list=[\"apple\",\"banana\",\"cherry\"]\n",
        "print(list)"
      ]
    },
    {
      "cell_type": "code",
      "source": [
        "list=['p','q','r','k']\n",
        "print(list[1])"
      ],
      "metadata": {
        "colab": {
          "base_uri": "https://localhost:8080/"
        },
        "id": "wvtLDgJuTNlP",
        "outputId": "d84a146c-da97-490c-bf50-b3f97ba6a0f1"
      },
      "execution_count": 3,
      "outputs": [
        {
          "output_type": "stream",
          "name": "stdout",
          "text": [
            "q\n"
          ]
        }
      ]
    },
    {
      "cell_type": "code",
      "source": [
        "list=[\"hello\",['k'],[2,8,5,6]]\n",
        "print(list[0][2])"
      ],
      "metadata": {
        "colab": {
          "base_uri": "https://localhost:8080/"
        },
        "id": "ZyJCCTb1TbwN",
        "outputId": "0945220f-4dfc-4e53-ada3-3ceca64a2d6f"
      },
      "execution_count": 4,
      "outputs": [
        {
          "output_type": "stream",
          "name": "stdout",
          "text": [
            "l\n"
          ]
        }
      ]
    },
    {
      "cell_type": "code",
      "source": [
        "list=[\"Rama\",[8,9,4],['g']]\n",
        "print(list[-2])"
      ],
      "metadata": {
        "colab": {
          "base_uri": "https://localhost:8080/"
        },
        "id": "XcFSGeLyT5df",
        "outputId": "9847370f-7a8a-4404-ca80-6925795a21db"
      },
      "execution_count": 6,
      "outputs": [
        {
          "output_type": "stream",
          "name": "stdout",
          "text": [
            "[8, 9, 4]\n",
            "[8, 9, 4]\n"
          ]
        }
      ]
    },
    {
      "cell_type": "code",
      "source": [
        "list=['p','q','r','s','t']\n",
        "print(list[2:4])"
      ],
      "metadata": {
        "id": "Ka3OmG8xZral",
        "outputId": "5549d120-1a68-4a17-8faa-97335c06666c",
        "colab": {
          "base_uri": "https://localhost:8080/"
        }
      },
      "execution_count": 8,
      "outputs": [
        {
          "output_type": "stream",
          "name": "stdout",
          "text": [
            "['r', 's']\n"
          ]
        }
      ]
    },
    {
      "cell_type": "code",
      "source": [
        "list=[6,4,5,8,3,7]\n",
        "print(list[1:])"
      ],
      "metadata": {
        "id": "Dmx_7VXOaBO2",
        "outputId": "809be6ff-1c1f-4737-8b33-33f9eb3e416e",
        "colab": {
          "base_uri": "https://localhost:8080/"
        }
      },
      "execution_count": 9,
      "outputs": [
        {
          "output_type": "stream",
          "name": "stdout",
          "text": [
            "[4, 5, 8, 3, 7]\n"
          ]
        }
      ]
    },
    {
      "cell_type": "code",
      "source": [
        "odd=[2,4,6,8]\n",
        "odd[1]=3\n",
        "print(odd)"
      ],
      "metadata": {
        "id": "Av6mY4fcaQ6B",
        "outputId": "b859feea-c994-47a8-c635-090f4f18326a",
        "colab": {
          "base_uri": "https://localhost:8080/"
        }
      },
      "execution_count": 10,
      "outputs": [
        {
          "output_type": "stream",
          "name": "stdout",
          "text": [
            "[2, 3, 6, 8]\n"
          ]
        }
      ]
    },
    {
      "cell_type": "code",
      "source": [
        "list=[5,6,7,8]\n",
        "list[1:3]=[9,4,3]\n",
        "print(list)"
      ],
      "metadata": {
        "id": "y2KwtYXMalhD",
        "outputId": "3f418bc7-2319-4fe8-fd90-6bee9fa8af7e",
        "colab": {
          "base_uri": "https://localhost:8080/"
        }
      },
      "execution_count": 11,
      "outputs": [
        {
          "output_type": "stream",
          "name": "stdout",
          "text": [
            "[5, 9, 4, 3, 8]\n"
          ]
        }
      ]
    },
    {
      "cell_type": "code",
      "source": [
        "list=[1,3,5]\n",
        "list.append(7)\n",
        "print(list)"
      ],
      "metadata": {
        "id": "X8871Capa3Gd",
        "outputId": "94989959-990d-45ec-e626-fac033563ccf",
        "colab": {
          "base_uri": "https://localhost:8080/"
        }
      },
      "execution_count": 12,
      "outputs": [
        {
          "output_type": "stream",
          "name": "stdout",
          "text": [
            "[1, 3, 5, 7]\n"
          ]
        }
      ]
    },
    {
      "cell_type": "code",
      "source": [
        "list=[1,3,5]\n",
        "list.extend([11,13,17,19])\n",
        "print(list)"
      ],
      "metadata": {
        "id": "ubHXG6ATbFHR",
        "outputId": "8f30ffbb-61b1-44bf-edb1-7f2c3a810fb2",
        "colab": {
          "base_uri": "https://localhost:8080/"
        }
      },
      "execution_count": 13,
      "outputs": [
        {
          "output_type": "stream",
          "name": "stdout",
          "text": [
            "[1, 3, 5, 11, 13, 17, 19]\n"
          ]
        }
      ]
    },
    {
      "cell_type": "code",
      "source": [
        "list=[2,3,5]\n",
        "print(list+[7,11,13])"
      ],
      "metadata": {
        "id": "l2VxHiEwbSO_",
        "outputId": "47e9550d-4608-46f4-88b6-b44107635ff8",
        "colab": {
          "base_uri": "https://localhost:8080/"
        }
      },
      "execution_count": 14,
      "outputs": [
        {
          "output_type": "stream",
          "name": "stdout",
          "text": [
            "[2, 3, 5, 7, 11, 13]\n"
          ]
        }
      ]
    },
    {
      "cell_type": "code",
      "source": [
        "print([\"re\"]*3)"
      ],
      "metadata": {
        "id": "E0Inaovbbiee",
        "outputId": "a026c048-180a-4f14-f93e-616a2f8be648",
        "colab": {
          "base_uri": "https://localhost:8080/"
        }
      },
      "execution_count": 15,
      "outputs": [
        {
          "output_type": "stream",
          "name": "stdout",
          "text": [
            "['re', 're', 're']\n"
          ]
        }
      ]
    },
    {
      "cell_type": "code",
      "source": [
        "list=[2,11,13,17]\n",
        "list[1:1]=[3,5,7]\n",
        "print(list)"
      ],
      "metadata": {
        "id": "E4mGFMpkbqqh",
        "outputId": "4222d036-7e67-4b8c-83a2-6731acf1990f",
        "colab": {
          "base_uri": "https://localhost:8080/"
        }
      },
      "execution_count": 16,
      "outputs": [
        {
          "output_type": "stream",
          "name": "stdout",
          "text": [
            "[2, 3, 5, 7, 11, 13, 17]\n"
          ]
        }
      ]
    },
    {
      "cell_type": "code",
      "source": [
        "list=['p','r','o','b','l','e','m']\n",
        "del list[3]\n",
        "print(list)"
      ],
      "metadata": {
        "id": "YhKNGpgeb9Wa",
        "outputId": "3c80eafe-54c0-471c-fd25-733cecf30301",
        "colab": {
          "base_uri": "https://localhost:8080/"
        }
      },
      "execution_count": 17,
      "outputs": [
        {
          "output_type": "stream",
          "name": "stdout",
          "text": [
            "['p', 'r', 'o', 'l', 'e', 'm']\n"
          ]
        }
      ]
    },
    {
      "cell_type": "code",
      "source": [
        "list=['p','r','o','b','l','e','m']\n",
        "del list[1:6]\n",
        "print(list)"
      ],
      "metadata": {
        "id": "A6rtlcYAcUNz",
        "outputId": "d4a79691-6fa4-4a36-9244-d4fb94940ce6",
        "colab": {
          "base_uri": "https://localhost:8080/"
        }
      },
      "execution_count": 18,
      "outputs": [
        {
          "output_type": "stream",
          "name": "stdout",
          "text": [
            "['p', 'm']\n"
          ]
        }
      ]
    },
    {
      "cell_type": "code",
      "source": [
        "list=['p','r','o','b','l','e','m']\n",
        "print(list.pop(3))"
      ],
      "metadata": {
        "id": "raOLD7pyccqQ",
        "outputId": "3c3369c7-c654-41c6-8b7b-007dc306e009",
        "colab": {
          "base_uri": "https://localhost:8080/"
        }
      },
      "execution_count": 19,
      "outputs": [
        {
          "output_type": "stream",
          "name": "stdout",
          "text": [
            "b\n"
          ]
        }
      ]
    },
    {
      "cell_type": "code",
      "source": [
        "list=['p','r','o','b','l','e','m']\n",
        "print(list.clear())"
      ],
      "metadata": {
        "id": "FQrvd56fcnVH",
        "outputId": "6ef68339-ffed-4d36-800f-5e2a506a7df8",
        "colab": {
          "base_uri": "https://localhost:8080/"
        }
      },
      "execution_count": 20,
      "outputs": [
        {
          "output_type": "stream",
          "name": "stdout",
          "text": [
            "None\n"
          ]
        }
      ]
    },
    {
      "cell_type": "code",
      "source": [
        "pow=[2**x for x in range(6) if x>2]\n",
        "print(pow)"
      ],
      "metadata": {
        "id": "-Ogt3UxYcuyq",
        "outputId": "b454b6b9-aede-4635-fc2e-5a1091ecb49c",
        "colab": {
          "base_uri": "https://localhost:8080/"
        }
      },
      "execution_count": 21,
      "outputs": [
        {
          "output_type": "stream",
          "name": "stdout",
          "text": [
            "[8, 16, 32]\n"
          ]
        }
      ]
    },
    {
      "cell_type": "code",
      "source": [
        "list=[5,4,7,8,9]\n",
        "print(list.count(8))"
      ],
      "metadata": {
        "id": "twGF7lzvdFKL",
        "outputId": "9f3c43a9-1f27-4ccf-eb23-3311abb19095",
        "colab": {
          "base_uri": "https://localhost:8080/"
        }
      },
      "execution_count": 22,
      "outputs": [
        {
          "output_type": "stream",
          "name": "stdout",
          "text": [
            "1\n"
          ]
        }
      ]
    },
    {
      "cell_type": "code",
      "source": [
        "list=[6,7,8,9,4,6]\n",
        "print(list.index(9))"
      ],
      "metadata": {
        "id": "njeB6vIgdQ9e",
        "outputId": "6e9e15d8-c459-49e2-c926-1291c3337b39",
        "colab": {
          "base_uri": "https://localhost:8080/"
        }
      },
      "execution_count": 23,
      "outputs": [
        {
          "output_type": "stream",
          "name": "stdout",
          "text": [
            "3\n"
          ]
        }
      ]
    }
  ]
}