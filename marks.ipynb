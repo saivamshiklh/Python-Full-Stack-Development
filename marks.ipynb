{
  "nbformat": 4,
  "nbformat_minor": 0,
  "metadata": {
    "colab": {
      "name": "marks",
      "provenance": [],
      "authorship_tag": "ABX9TyObFMQ9ViJ4KG7xAl8l/22Z",
      "include_colab_link": true
    },
    "kernelspec": {
      "name": "python3",
      "display_name": "Python 3"
    },
    "language_info": {
      "name": "python"
    }
  },
  "cells": [
    {
      "cell_type": "markdown",
      "metadata": {
        "id": "view-in-github",
        "colab_type": "text"
      },
      "source": [
        "<a href=\"https://colab.research.google.com/github/saivamshiklh/Python-Full-Stack-Development/blob/main/marks.ipynb\" target=\"_parent\"><img src=\"https://colab.research.google.com/assets/colab-badge.svg\" alt=\"Open In Colab\"/></a>"
      ]
    },
    {
      "cell_type": "code",
      "source": [
        "marks={\"Maths\" : 45 ,\"Science\" : 23 ,\"Social\" : 65}\n",
        "print(marks[\"Science\"])\n",
        "print(marks[\"Social\"])\n",
        "print(marks[\"Maths\"])\n",
        "print(marks.get(\"Hindi\"))"
      ],
      "metadata": {
        "colab": {
          "base_uri": "https://localhost:8080/"
        },
        "id": "a3ZabDlaF-Pr",
        "outputId": "dca34530-a162-4d37-f03d-d36b825507be"
      },
      "execution_count": 5,
      "outputs": [
        {
          "output_type": "stream",
          "name": "stdout",
          "text": [
            "23\n",
            "65\n",
            "45\n",
            "None\n"
          ]
        }
      ]
    },
    {
      "cell_type": "code",
      "source": [
        "squares={1:1,2:4,3:9,4:16,5:25}\n",
        "print(squares)\n",
        "key=int(input(\"Enter key to delete\"))\n",
        "del squares[key]\n",
        "print(squares)"
      ],
      "metadata": {
        "colab": {
          "base_uri": "https://localhost:8080/"
        },
        "id": "4aUVyXziGo-z",
        "outputId": "cd4fd2a1-624c-417d-e1ee-f535e6abfbaa"
      },
      "execution_count": 7,
      "outputs": [
        {
          "output_type": "stream",
          "name": "stdout",
          "text": [
            "{1: 1, 2: 4, 3: 9, 4: 16, 5: 25}\n",
            "Enter key to delete3\n",
            "{1: 1, 2: 4, 4: 16, 5: 25}\n"
          ]
        }
      ]
    },
    {
      "cell_type": "code",
      "source": [
        "squares={1:1,2:4,3:9,4:16,5:25}\n",
        "print(squares)\n",
        "squares.popitem()\n",
        "print(squares)"
      ],
      "metadata": {
        "colab": {
          "base_uri": "https://localhost:8080/"
        },
        "id": "2zSJ_9t-HkAm",
        "outputId": "2670d05d-b792-41c2-d91f-8764f2368a04"
      },
      "execution_count": 11,
      "outputs": [
        {
          "output_type": "stream",
          "name": "stdout",
          "text": [
            "{1: 1, 2: 4, 3: 9, 4: 16, 5: 25}\n",
            "{1: 1, 2: 4, 3: 9, 4: 16}\n"
          ]
        }
      ]
    },
    {
      "cell_type": "code",
      "source": [
        "students={1:\"VAMSHI\" , 2:\"SATYA\" , 3:\"YESH\"}\n",
        "courses={1:\"EMBEDDED\",2:\"DATA SCIENCE\",3:\"WEB DEVELOPMENT\"}\n",
        "print(\"List of students\")\n",
        "print(students)\n",
        "print(\"List of courses\")\n",
        "print(courses)\n",
        "students.clear()\n"
      ],
      "metadata": {
        "colab": {
          "base_uri": "https://localhost:8080/"
        },
        "id": "zb37-zW6IItr",
        "outputId": "fec69756-ba62-421d-f36b-21452f86a168"
      },
      "execution_count": 13,
      "outputs": [
        {
          "output_type": "stream",
          "name": "stdout",
          "text": [
            "List of students\n",
            "{1: 'VAMSHI', 2: 'SATYA', 3: 'YESH'}\n",
            "List of courses\n",
            "{1: 'EMBEDDED', 2: 'DATA SCIENCE', 3: 'WEB DEVELOPMENT'}\n"
          ]
        }
      ]
    },
    {
      "cell_type": "code",
      "source": [
        "squares={1:1,3:9,5:25,7:49,9:81}\n",
        "print(\"1 in squares  :\",1 in squares)\n",
        "print(\"2 in squares  :\",2 not in squares)\n",
        "print(\"49 in squares  :\",49 in squares)"
      ],
      "metadata": {
        "colab": {
          "base_uri": "https://localhost:8080/"
        },
        "id": "yqwDtlxEJrIj",
        "outputId": "d162ab1f-83f2-4bd2-d90a-5047d4921b61"
      },
      "execution_count": 14,
      "outputs": [
        {
          "output_type": "stream",
          "name": "stdout",
          "text": [
            "1 in squares  : True\n",
            "2 in squares  : True\n",
            "49 in squares  : False\n"
          ]
        }
      ]
    },
    {
      "cell_type": "code",
      "source": [
        "marks={\"Maths\":45,\"Science\":23,\"Social\":38}\n",
        "for subject in marks:\n",
        "  print(subject)\n",
        "  for subject in marks:\n",
        "    score=marks[subject]\n",
        "    print(subject,\":\",score)"
      ],
      "metadata": {
        "colab": {
          "base_uri": "https://localhost:8080/"
        },
        "id": "WeTulhR5KGVF",
        "outputId": "10f7d999-496a-4f9d-f8d9-692bf5088dc6"
      },
      "execution_count": 15,
      "outputs": [
        {
          "output_type": "stream",
          "name": "stdout",
          "text": [
            "Maths\n",
            "Maths : 45\n",
            "Science : 23\n",
            "Social : 38\n",
            "Science\n",
            "Maths : 45\n",
            "Science : 23\n",
            "Social : 38\n",
            "Social\n",
            "Maths : 45\n",
            "Science : 23\n",
            "Social : 38\n"
          ]
        }
      ]
    },
    {
      "cell_type": "code",
      "source": [
        "marks={\"Maths\":45,\"Science\":23,\"Social\":38}\n",
        "print(\"keys :\",marks.keys())\n",
        "print(\"values :\",marks.values())\n",
        "print(\"----------------------\")\n",
        "for subject,score in marks.items() :\n",
        "  print(subject,\":\",score)\n"
      ],
      "metadata": {
        "colab": {
          "base_uri": "https://localhost:8080/"
        },
        "id": "7bNeqrEpL0Ip",
        "outputId": "5535e1ee-3523-431c-ab4a-acfca6a72ce4"
      },
      "execution_count": 18,
      "outputs": [
        {
          "output_type": "stream",
          "name": "stdout",
          "text": [
            "keys : dict_keys(['Maths', 'Science', 'Social'])\n",
            "values : dict_values([45, 23, 38])\n",
            "----------------------\n",
            "Maths : 45\n",
            "Science : 23\n",
            "Social : 38\n"
          ]
        }
      ]
    },
    {
      "cell_type": "code",
      "source": [
        ""
      ],
      "metadata": {
        "id": "nXAYKVg6Oldf"
      },
      "execution_count": null,
      "outputs": []
    }
  ]
}